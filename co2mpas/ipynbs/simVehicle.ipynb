{
 "cells": [
  {
   "cell_type": "code",
   "execution_count": 2,
   "metadata": {
    "collapsed": true
   },
   "outputs": [],
   "source": [
    "%matplotlib inline\n",
    "\n",
    "import numpy as np\n",
    "import pandas as pd\n",
    "from co2mpas.models import co2mpas_model"
   ]
  },
  {
   "cell_type": "code",
   "execution_count": 5,
   "metadata": {
    "collapsed": true
   },
   "outputs": [],
   "source": [
    "veh_input = {\n",
    "    'precondition_cycle_inputs': {},\n",
    "    'wltp_h_cycle_inputs': {},\n",
    "    'wltp_l_cycle_inputs': {},\n",
    "    'prediction_nedc_inputs': {},\n",
    "}"
   ]
  },
  {
   "cell_type": "code",
   "execution_count": 7,
   "metadata": {
    "collapsed": false
   },
   "outputs": [
    {
     "name": "stderr",
     "output_type": "stream",
     "text": [
      "WARNING:co2mpas.dispatcher:Estimation error at function node (extract_calibrated_models) due to: 'cycle_name'\n",
      "Traceback (most recent call last):\n",
      "  File \"c:\\users\\arcidvi\\desktop\\co2mpas\\co2mpas\\dispatcher\\__init__.py\", line 2016, in _set_function_node_output\n",
      "    res = fun(*args)\n",
      "  File \"c:\\users\\arcidvi\\desktop\\co2mpas\\co2mpas\\functions\\physical\\__init__.py\", line 364, in model_selector\n",
      "    em_rt = list(map(get, range(len(co)), co))\n",
      "  File \"c:\\users\\arcidvi\\desktop\\co2mpas\\co2mpas\\functions\\physical\\__init__.py\", line 362, in get\n",
      "    return _extract_models(o, m), o[id_tag], co[:i] + co[i + 1:], co[i]\n",
      "KeyError: 'cycle_name'\n"
     ]
    },
    {
     "data": {
      "text/plain": [
       "(<networkx.classes.digraph.DiGraph at 0xa6305f8>,\n",
       " {'calibration_wltp_h_inputs': {},\n",
       "  'calibration_wltp_h_outputs': {'air_density': 1.2,\n",
       "   'angle_slope': 0,\n",
       "   'correct_gear': <function co2mpas.functions.physical.gear_box.AT_gear.correct_gear_v3.<locals>.correct_gear>,\n",
       "   'engine_is_turbo': True,\n",
       "   'final_drive_efficiency': 1.0,\n",
       "   'final_drive_ratio': 1.0,\n",
       "   'idle_engine_speed_std': 100.0,\n",
       "   'k1': 1,\n",
       "   'k2': 2,\n",
       "   'k5': 2,\n",
       "   'temperature_references': (40, 80),\n",
       "   'time_cold_hot_transition': 300.0,\n",
       "   'time_sample_frequency': 1,\n",
       "   'use_dt_gear_shifting': False},\n",
       "  'calibration_wltp_l_inputs': {},\n",
       "  'calibration_wltp_l_outputs': {'air_density': 1.2,\n",
       "   'angle_slope': 0,\n",
       "   'correct_gear': <function co2mpas.functions.physical.gear_box.AT_gear.correct_gear_v3.<locals>.correct_gear>,\n",
       "   'engine_is_turbo': True,\n",
       "   'final_drive_efficiency': 1.0,\n",
       "   'final_drive_ratio': 1.0,\n",
       "   'idle_engine_speed_std': 100.0,\n",
       "   'k1': 1,\n",
       "   'k2': 2,\n",
       "   'k5': 2,\n",
       "   'temperature_references': (40, 80),\n",
       "   'time_cold_hot_transition': 300.0,\n",
       "   'time_sample_frequency': 1,\n",
       "   'use_dt_gear_shifting': False},\n",
       "  'precondition_cycle_inputs': {},\n",
       "  'precondition_cycle_outputs': {'air_density': 1.2,\n",
       "   'angle_slope': 0,\n",
       "   'correct_gear': <function co2mpas.functions.physical.gear_box.AT_gear.correct_gear_v3.<locals>.correct_gear>,\n",
       "   'engine_is_turbo': True,\n",
       "   'final_drive_efficiency': 1.0,\n",
       "   'final_drive_ratio': 1.0,\n",
       "   'idle_engine_speed_std': 100.0,\n",
       "   'k1': 1,\n",
       "   'k2': 2,\n",
       "   'k5': 2,\n",
       "   'temperature_references': (40, 80),\n",
       "   'time_cold_hot_transition': 300.0,\n",
       "   'time_sample_frequency': 1,\n",
       "   'use_dt_gear_shifting': False},\n",
       "  'prediction_nedc_inputs': {},\n",
       "  'wltp_h_cycle_inputs': {},\n",
       "  'wltp_l_cycle_inputs': {}})"
      ]
     },
     "execution_count": 7,
     "metadata": {},
     "output_type": "execute_result"
    }
   ],
   "source": [
    "dsp = co2mpas_model()\n",
    "dsp.dispatch(inputs=veh_input)"
   ]
  }
 ],
 "metadata": {
  "kernelspec": {
   "display_name": "Python 3",
   "language": "python",
   "name": "python3"
  },
  "language_info": {
   "codemirror_mode": {
    "name": "ipython",
    "version": 3
   },
   "file_extension": ".py",
   "mimetype": "text/x-python",
   "name": "python",
   "nbconvert_exporter": "python",
   "pygments_lexer": "ipython3",
   "version": "3.4.3"
  }
 },
 "nbformat": 4,
 "nbformat_minor": 0
}
